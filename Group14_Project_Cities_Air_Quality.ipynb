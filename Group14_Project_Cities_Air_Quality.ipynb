{
 "cells": [
  {
   "cell_type": "code",
   "execution_count": 1,
   "id": "98f5e1b1",
   "metadata": {},
   "outputs": [],
   "source": [
    "import opendatasets as od\n",
    "import pandas as pd\n",
    "import numpy as np\n",
    "import zipfile"
   ]
  },
  {
   "cell_type": "code",
   "execution_count": 2,
   "id": "558eba4c",
   "metadata": {},
   "outputs": [],
   "source": [
    "DATASET = \"victorahaji/worlds-air-quality-and-water-pollution-dataset\"\n",
    "DATASET_FILE_NAME = \"cities_air_quality_water_pollution.18-10-2021 (1).csv\"\n",
    "DATASET_FILE_NAME_renamed = \"cities_air_quality_water_pollution.18-10-2021%20(1).csv\""
   ]
  },
  {
   "cell_type": "code",
   "execution_count": 5,
   "id": "195abd08",
   "metadata": {},
   "outputs": [],
   "source": [
    "from kaggle.api.kaggle_api_extended import KaggleApi\n",
    "!chmod 600 /Users/rajkandati/.kaggle/kaggle.json"
   ]
  },
  {
   "cell_type": "markdown",
   "id": "33ffb30f",
   "metadata": {},
   "source": [
    "#Download dataset"
   ]
  },
  {
   "cell_type": "code",
   "execution_count": null,
   "id": "2cdf53a4",
   "metadata": {},
   "outputs": [],
   "source": [
    "api = KaggleApi()\n",
    "api.authenticate()"
   ]
  },
  {
   "cell_type": "code",
   "execution_count": null,
   "id": "fd6b172c",
   "metadata": {},
   "outputs": [],
   "source": [
    "api.dataset_download_file(DATASET,file_name=DATASET_FILE_NAME,force=True)"
   ]
  },
  {
   "cell_type": "code",
   "execution_count": 7,
   "id": "20f1bff3",
   "metadata": {},
   "outputs": [
    {
     "data": {
      "text/html": [
       "<div>\n",
       "<style scoped>\n",
       "    .dataframe tbody tr th:only-of-type {\n",
       "        vertical-align: middle;\n",
       "    }\n",
       "\n",
       "    .dataframe tbody tr th {\n",
       "        vertical-align: top;\n",
       "    }\n",
       "\n",
       "    .dataframe thead th {\n",
       "        text-align: right;\n",
       "    }\n",
       "</style>\n",
       "<table border=\"1\" class=\"dataframe\">\n",
       "  <thead>\n",
       "    <tr style=\"text-align: right;\">\n",
       "      <th></th>\n",
       "      <th>City</th>\n",
       "      <th>\"Region\"</th>\n",
       "      <th>\"Country\"</th>\n",
       "      <th>\"AirQuality\"</th>\n",
       "      <th>\"WaterPollution\"</th>\n",
       "    </tr>\n",
       "  </thead>\n",
       "  <tbody>\n",
       "    <tr>\n",
       "      <th>0</th>\n",
       "      <td>New York City</td>\n",
       "      <td>\"New York\"</td>\n",
       "      <td>\"United States of America\"</td>\n",
       "      <td>46.816038</td>\n",
       "      <td>49.504950</td>\n",
       "    </tr>\n",
       "    <tr>\n",
       "      <th>1</th>\n",
       "      <td>Washington, D.C.</td>\n",
       "      <td>\"District of Columbia\"</td>\n",
       "      <td>\"United States of America\"</td>\n",
       "      <td>66.129032</td>\n",
       "      <td>49.107143</td>\n",
       "    </tr>\n",
       "    <tr>\n",
       "      <th>2</th>\n",
       "      <td>San Francisco</td>\n",
       "      <td>\"California\"</td>\n",
       "      <td>\"United States of America\"</td>\n",
       "      <td>60.514019</td>\n",
       "      <td>43.000000</td>\n",
       "    </tr>\n",
       "    <tr>\n",
       "      <th>3</th>\n",
       "      <td>Berlin</td>\n",
       "      <td>\"\"</td>\n",
       "      <td>\"Germany\"</td>\n",
       "      <td>62.364130</td>\n",
       "      <td>28.612717</td>\n",
       "    </tr>\n",
       "    <tr>\n",
       "      <th>4</th>\n",
       "      <td>Los Angeles</td>\n",
       "      <td>\"California\"</td>\n",
       "      <td>\"United States of America\"</td>\n",
       "      <td>36.621622</td>\n",
       "      <td>61.299435</td>\n",
       "    </tr>\n",
       "    <tr>\n",
       "      <th>...</th>\n",
       "      <td>...</td>\n",
       "      <td>...</td>\n",
       "      <td>...</td>\n",
       "      <td>...</td>\n",
       "      <td>...</td>\n",
       "    </tr>\n",
       "    <tr>\n",
       "      <th>3958</th>\n",
       "      <td>Yanbu</td>\n",
       "      <td>\"Medina Province\"</td>\n",
       "      <td>\"Saudi Arabia\"</td>\n",
       "      <td>0.000000</td>\n",
       "      <td>50.000000</td>\n",
       "    </tr>\n",
       "    <tr>\n",
       "      <th>3959</th>\n",
       "      <td>Cordoba</td>\n",
       "      <td>\"Andalusia\"</td>\n",
       "      <td>\"Spain\"</td>\n",
       "      <td>85.714286</td>\n",
       "      <td>8.333333</td>\n",
       "    </tr>\n",
       "    <tr>\n",
       "      <th>3960</th>\n",
       "      <td>Vic</td>\n",
       "      <td>\"Catalonia\"</td>\n",
       "      <td>\"Spain\"</td>\n",
       "      <td>100.000000</td>\n",
       "      <td>0.000000</td>\n",
       "    </tr>\n",
       "    <tr>\n",
       "      <th>3961</th>\n",
       "      <td>Segovia</td>\n",
       "      <td>\"Castile and Leon\"</td>\n",
       "      <td>\"Spain\"</td>\n",
       "      <td>100.000000</td>\n",
       "      <td>0.000000</td>\n",
       "    </tr>\n",
       "    <tr>\n",
       "      <th>3962</th>\n",
       "      <td>Zamora city</td>\n",
       "      <td>\"Castile and Leon\"</td>\n",
       "      <td>\"Spain\"</td>\n",
       "      <td>100.000000</td>\n",
       "      <td>50.000000</td>\n",
       "    </tr>\n",
       "  </tbody>\n",
       "</table>\n",
       "<p>3963 rows × 5 columns</p>\n",
       "</div>"
      ],
      "text/plain": [
       "                  City                 \"Region\"                    \"Country\"  \\\n",
       "0        New York City               \"New York\"   \"United States of America\"   \n",
       "1     Washington, D.C.   \"District of Columbia\"   \"United States of America\"   \n",
       "2        San Francisco             \"California\"   \"United States of America\"   \n",
       "3               Berlin                       \"\"                    \"Germany\"   \n",
       "4          Los Angeles             \"California\"   \"United States of America\"   \n",
       "...                ...                      ...                          ...   \n",
       "3958             Yanbu        \"Medina Province\"               \"Saudi Arabia\"   \n",
       "3959           Cordoba              \"Andalusia\"                      \"Spain\"   \n",
       "3960               Vic              \"Catalonia\"                      \"Spain\"   \n",
       "3961           Segovia       \"Castile and Leon\"                      \"Spain\"   \n",
       "3962       Zamora city       \"Castile and Leon\"                      \"Spain\"   \n",
       "\n",
       "       \"AirQuality\"   \"WaterPollution\"  \n",
       "0         46.816038          49.504950  \n",
       "1         66.129032          49.107143  \n",
       "2         60.514019          43.000000  \n",
       "3         62.364130          28.612717  \n",
       "4         36.621622          61.299435  \n",
       "...             ...                ...  \n",
       "3958       0.000000          50.000000  \n",
       "3959      85.714286           8.333333  \n",
       "3960     100.000000           0.000000  \n",
       "3961     100.000000           0.000000  \n",
       "3962     100.000000          50.000000  \n",
       "\n",
       "[3963 rows x 5 columns]"
      ]
     },
     "execution_count": 7,
     "metadata": {},
     "output_type": "execute_result"
    }
   ],
   "source": [
    "pd.read_csv(DATASET_FILE_NAME_renamed)"
   ]
  }
 ],
 "metadata": {
  "kernelspec": {
   "display_name": "Python 3 (ipykernel)",
   "language": "python",
   "name": "python3"
  },
  "language_info": {
   "codemirror_mode": {
    "name": "ipython",
    "version": 3
   },
   "file_extension": ".py",
   "mimetype": "text/x-python",
   "name": "python",
   "nbconvert_exporter": "python",
   "pygments_lexer": "ipython3",
   "version": "3.11.5"
  }
 },
 "nbformat": 4,
 "nbformat_minor": 5
}
